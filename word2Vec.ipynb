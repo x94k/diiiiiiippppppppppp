{
 "cells": [
  {
   "cell_type": "code",
   "execution_count": 19,
   "id": "ab486069",
   "metadata": {},
   "outputs": [],
   "source": [
    "# https://www.scaler.com/topics/nlp/cbow/"
   ]
  },
  {
   "cell_type": "code",
   "execution_count": 20,
   "id": "3e853a4c",
   "metadata": {},
   "outputs": [],
   "source": [
    "# pip install gensim"
   ]
  },
  {
   "cell_type": "code",
   "execution_count": 21,
   "id": "bb0d3a2e",
   "metadata": {},
   "outputs": [],
   "source": [
    "#pip install gensim==3.8.3"
   ]
  },
  {
   "cell_type": "code",
   "execution_count": 22,
   "id": "2362fcaa",
   "metadata": {},
   "outputs": [],
   "source": [
    "from gensim.models import Word2Vec\n",
    "import nltk\n",
    "from nltk.corpus import brown"
   ]
  },
  {
   "cell_type": "code",
   "execution_count": 23,
   "id": "a6d5008c",
   "metadata": {},
   "outputs": [
    {
     "name": "stderr",
     "output_type": "stream",
     "text": [
      "[nltk_data] Downloading package brown to\n",
      "[nltk_data]     C:\\Users\\Admin\\AppData\\Roaming\\nltk_data...\n",
      "[nltk_data]   Package brown is already up-to-date!\n"
     ]
    }
   ],
   "source": [
    "nltk.download('brown')  #We download the brown corpus in this section and use it as the sample data.\n",
    "data = brown.sents()  # Use the Brown corpus from NLTK as sample data\n"
   ]
  },
  {
   "cell_type": "code",
   "execution_count": 24,
   "id": "756b29b3",
   "metadata": {},
   "outputs": [],
   "source": [
    "model = Word2Vec(data, min_count=1,  window=5)   # CBOW model using the gensim library's Word2Vec\n"
   ]
  },
  {
   "cell_type": "code",
   "execution_count": 25,
   "id": "43a6dd1b",
   "metadata": {},
   "outputs": [
    {
     "data": {
      "text/plain": [
       "(4271774, 5805960)"
      ]
     },
     "execution_count": 25,
     "metadata": {},
     "output_type": "execute_result"
    }
   ],
   "source": [
    "model.train(data, total_examples=len(data), epochs=5) # Model is trained on the data with a specified number of epochs"
   ]
  },
  {
   "cell_type": "code",
   "execution_count": 26,
   "id": "5c23a71e",
   "metadata": {},
   "outputs": [
    {
     "name": "stdout",
     "output_type": "stream",
     "text": [
      "[['The', 'Fulton', 'County', 'Grand', 'Jury', 'said', 'Friday', 'an', 'investigation', 'of', \"Atlanta's\", 'recent', 'primary', 'election', 'produced', '``', 'no', 'evidence', \"''\", 'that', 'any', 'irregularities', 'took', 'place', '.'], ['The', 'jury', 'further', 'said', 'in', 'term-end', 'presentments', 'that', 'the', 'City', 'Executive', 'Committee', ',', 'which', 'had', 'over-all', 'charge', 'of', 'the', 'election', ',', '``', 'deserves', 'the', 'praise', 'and', 'thanks', 'of', 'the', 'City', 'of', 'Atlanta', \"''\", 'for', 'the', 'manner', 'in', 'which', 'the', 'election', 'was', 'conducted', '.'], ...]\n"
     ]
    }
   ],
   "source": [
    "print(data)"
   ]
  },
  {
   "cell_type": "code",
   "execution_count": 27,
   "id": "261814eb",
   "metadata": {},
   "outputs": [],
   "source": [
    "word_vectors = model.wv  #model in this section learns the embeddings.\n"
   ]
  },
  {
   "cell_type": "code",
   "execution_count": 29,
   "id": "04aa3002",
   "metadata": {},
   "outputs": [
    {
     "name": "stdout",
     "output_type": "stream",
     "text": [
      "Similarity between 'woman' and 'man': 0.8805974721908569\n"
     ]
    }
   ],
   "source": [
    "#we calculate the cosine similarity between two words, 'woman' and 'man', \n",
    "# This measures how similar the two words are in meaning.\n",
    "\n",
    "similarity = word_vectors.similarity('woman', 'man')\n",
    "print(f\"Similarity between 'woman' and 'man': {similarity}\") \n"
   ]
  },
  {
   "cell_type": "code",
   "execution_count": null,
   "id": "5ed79d0c",
   "metadata": {},
   "outputs": [],
   "source": []
  }
 ],
 "metadata": {
  "kernelspec": {
   "display_name": "Python 3 (ipykernel)",
   "language": "python",
   "name": "python3"
  },
  "language_info": {
   "codemirror_mode": {
    "name": "ipython",
    "version": 3
   },
   "file_extension": ".py",
   "mimetype": "text/x-python",
   "name": "python",
   "nbconvert_exporter": "python",
   "pygments_lexer": "ipython3",
   "version": "3.10.4"
  }
 },
 "nbformat": 4,
 "nbformat_minor": 5
}
